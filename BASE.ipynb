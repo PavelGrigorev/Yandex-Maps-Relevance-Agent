{
 "cells": [
  {
   "cell_type": "code",
   "execution_count": 2,
   "id": "38561133",
   "metadata": {},
   "outputs": [],
   "source": [
    "import pandas as pd\n",
    "PATH = 'data_final_for_dls.jsonl'\n",
    "PATH_NEW = 'data_final_for_dls_new_new.jsonl'\n",
    "data = pd.read_json(path_or_buf=PATH_NEW, lines=True)"
   ]
  },
  {
   "cell_type": "code",
   "execution_count": 3,
   "id": "c9d3b372",
   "metadata": {},
   "outputs": [
    {
     "data": {
      "text/plain": [
       "relevance\n",
       "1.0    15882\n",
       "0.0    14509\n",
       "0.1     4703\n",
       "Name: count, dtype: int64"
      ]
     },
     "execution_count": 3,
     "metadata": {},
     "output_type": "execute_result"
    }
   ],
   "source": [
    "data['relevance'].value_counts()"
   ]
  },
  {
   "cell_type": "code",
   "execution_count": 4,
   "id": "c4527bc8",
   "metadata": {},
   "outputs": [
    {
     "data": {
      "text/html": [
       "<div>\n",
       "<style scoped>\n",
       "    .dataframe tbody tr th:only-of-type {\n",
       "        vertical-align: middle;\n",
       "    }\n",
       "\n",
       "    .dataframe tbody tr th {\n",
       "        vertical-align: top;\n",
       "    }\n",
       "\n",
       "    .dataframe thead th {\n",
       "        text-align: right;\n",
       "    }\n",
       "</style>\n",
       "<table border=\"1\" class=\"dataframe\">\n",
       "  <thead>\n",
       "    <tr style=\"text-align: right;\">\n",
       "      <th></th>\n",
       "      <th>Text</th>\n",
       "      <th>address</th>\n",
       "      <th>name</th>\n",
       "      <th>normalized_main_rubric_name_ru</th>\n",
       "      <th>permalink</th>\n",
       "      <th>prices_summarized</th>\n",
       "      <th>relevance</th>\n",
       "      <th>reviews_summarized</th>\n",
       "      <th>relevance_new</th>\n",
       "    </tr>\n",
       "  </thead>\n",
       "  <tbody>\n",
       "    <tr>\n",
       "      <th>0</th>\n",
       "      <td>сигары</td>\n",
       "      <td>Москва, Дубравная улица, 34/29</td>\n",
       "      <td>Tabaccos; Магазин Tabaccos; Табаккос</td>\n",
       "      <td>Магазин табака и курительных принадлежностей</td>\n",
       "      <td>1263329400</td>\n",
       "      <td>None</td>\n",
       "      <td>1.0</td>\n",
       "      <td>Организация занимается продажей табака, курите...</td>\n",
       "      <td>1.0</td>\n",
       "    </tr>\n",
       "    <tr>\n",
       "      <th>1</th>\n",
       "      <td>кальянная спб мероприятия</td>\n",
       "      <td>Санкт-Петербург, Большой проспект Петроградско...</td>\n",
       "      <td>PioNero; Pionero; Пицца Паста бар; Pio Nero; P...</td>\n",
       "      <td>Кафе</td>\n",
       "      <td>228111266197</td>\n",
       "      <td>PioNero предлагает разнообразные блюда итальян...</td>\n",
       "      <td>0.0</td>\n",
       "      <td>Организация PioNero — это кафе, бар и ресторан...</td>\n",
       "      <td>0.0</td>\n",
       "    </tr>\n",
       "    <tr>\n",
       "      <th>2</th>\n",
       "      <td>Эпиляция</td>\n",
       "      <td>Московская область, Одинцово, улица Маршала Жу...</td>\n",
       "      <td>MaxiLife; Центр красоты и здоровья MaxiLife; Ц...</td>\n",
       "      <td>Стоматологическая клиника</td>\n",
       "      <td>1247255817</td>\n",
       "      <td>Стоматологическая клиника, массажный салон и к...</td>\n",
       "      <td>1.0</td>\n",
       "      <td>Организация занимается стоматологическими, кос...</td>\n",
       "      <td>1.0</td>\n",
       "    </tr>\n",
       "    <tr>\n",
       "      <th>4</th>\n",
       "      <td>стиральных машин</td>\n",
       "      <td>Москва, улица Обручева, 34/63</td>\n",
       "      <td>М.Видео; M Video; M. Видео; M.Видео; Mvideo; М...</td>\n",
       "      <td>Магазин бытовой техники</td>\n",
       "      <td>1074529324</td>\n",
       "      <td>М.Видео предлагает широкий ассортимент бытовой...</td>\n",
       "      <td>1.0</td>\n",
       "      <td>Организация занимается продажей бытовой техник...</td>\n",
       "      <td>1.0</td>\n",
       "    </tr>\n",
       "    <tr>\n",
       "      <th>5</th>\n",
       "      <td>сеть быстрого питания</td>\n",
       "      <td>Санкт-Петербург, 1-я Красноармейская улица, 15</td>\n",
       "      <td>Rostic's; KFC; Ресторан быстрого питания KFC</td>\n",
       "      <td>Быстрое питание</td>\n",
       "      <td>1219173871</td>\n",
       "      <td>Rostic's предлагает различные наборы быстрого ...</td>\n",
       "      <td>1.0</td>\n",
       "      <td>Организация занимается быстрым питанием, предо...</td>\n",
       "      <td>1.0</td>\n",
       "    </tr>\n",
       "  </tbody>\n",
       "</table>\n",
       "</div>"
      ],
      "text/plain": [
       "                        Text  \\\n",
       "0                     сигары   \n",
       "1  кальянная спб мероприятия   \n",
       "2                   Эпиляция   \n",
       "4           стиральных машин   \n",
       "5      сеть быстрого питания   \n",
       "\n",
       "                                             address  \\\n",
       "0                     Москва, Дубравная улица, 34/29   \n",
       "1  Санкт-Петербург, Большой проспект Петроградско...   \n",
       "2  Московская область, Одинцово, улица Маршала Жу...   \n",
       "4                      Москва, улица Обручева, 34/63   \n",
       "5     Санкт-Петербург, 1-я Красноармейская улица, 15   \n",
       "\n",
       "                                                name  \\\n",
       "0               Tabaccos; Магазин Tabaccos; Табаккос   \n",
       "1  PioNero; Pionero; Пицца Паста бар; Pio Nero; P...   \n",
       "2  MaxiLife; Центр красоты и здоровья MaxiLife; Ц...   \n",
       "4  М.Видео; M Video; M. Видео; M.Видео; Mvideo; М...   \n",
       "5       Rostic's; KFC; Ресторан быстрого питания KFC   \n",
       "\n",
       "                 normalized_main_rubric_name_ru     permalink  \\\n",
       "0  Магазин табака и курительных принадлежностей    1263329400   \n",
       "1                                          Кафе  228111266197   \n",
       "2                     Стоматологическая клиника    1247255817   \n",
       "4                       Магазин бытовой техники    1074529324   \n",
       "5                               Быстрое питание    1219173871   \n",
       "\n",
       "                                   prices_summarized  relevance  \\\n",
       "0                                               None        1.0   \n",
       "1  PioNero предлагает разнообразные блюда итальян...        0.0   \n",
       "2  Стоматологическая клиника, массажный салон и к...        1.0   \n",
       "4  М.Видео предлагает широкий ассортимент бытовой...        1.0   \n",
       "5  Rostic's предлагает различные наборы быстрого ...        1.0   \n",
       "\n",
       "                                  reviews_summarized  relevance_new  \n",
       "0  Организация занимается продажей табака, курите...            1.0  \n",
       "1  Организация PioNero — это кафе, бар и ресторан...            0.0  \n",
       "2  Организация занимается стоматологическими, кос...            1.0  \n",
       "4  Организация занимается продажей бытовой техник...            1.0  \n",
       "5  Организация занимается быстрым питанием, предо...            1.0  "
      ]
     },
     "execution_count": 4,
     "metadata": {},
     "output_type": "execute_result"
    }
   ],
   "source": [
    "train_data = data[570:]\n",
    "eval_data = data[:570]\n",
    "eval_data = eval_data[eval_data[\"relevance\"] != 0.1]\n",
    "eval_data.head()"
   ]
  },
  {
   "cell_type": "code",
   "execution_count": 5,
   "id": "8b8c1009",
   "metadata": {},
   "outputs": [],
   "source": [
    "from openai import OpenAI\n",
    "import os\n",
    "\n",
    "API_KEY = \"ollama\" # \"ollama\" #\"QAFlNVFC15GT4nraEY8ZuQduYLeutJZG\"\n",
    "BASE_URL = \"http://localhost:11434/v1/\" # \"http://localhost:11434/v1/\" # \"https://api.mistral.ai/v1\"\n",
    "MODEL = \"deepseek-r1\" # \"mistral-medium\" # \"mistral-large-2411\" #\"llama3.2:3b\" # \"mistral-small-latest\"\n",
    "\n",
    "class RelevanceLLMAgent:\n",
    "    def __init__(self, model=MODEL, temperature=0.0):\n",
    "        self.client = OpenAI(base_url=BASE_URL, api_key=API_KEY) # os.environ[\"OPENAI_API_KEY\"])\n",
    "        self.model = model\n",
    "        self.temperature = temperature\n",
    "\n",
    "    def predict(self, query: str, org: dict) -> bool:\n",
    "        system_prompt = (\n",
    "            \"Ты помощник, оценивающий релевантность информации об организации запросу пользователя.\"\n",
    "            \"Продумай ответ шаг за шагом, приняв во внимание информацию из контекста.\"\n",
    "            \"Отвечай только 'релевантно' или 'не релевантно'.\"\n",
    "        )\n",
    "\n",
    "        user_prompt = (\n",
    "            f\"Запрос пользователя: {query}\\n\\n\"\n",
    "            f\"Название: {org.get('name', '')}\\n\"\n",
    "            f\"Категория: {org.get('normalized_main_rubric_name_ru', '')}\\n\"\n",
    "            f\"Отзывы: {org.get('reviews_summarized', '')}\\n\"\n",
    "            f\"Прайс: {org.get('prices_summarized', '')}\\n\"\n",
    "            f\"Адрес: {org.get('address', '')}\\n\\n\"\n",
    "            \"Ответь: релевантно или не релевантно?\"\n",
    "        )\n",
    "\n",
    "        response = self.client.chat.completions.create(\n",
    "            model=self.model,\n",
    "            temperature=self.temperature,\n",
    "            messages=[\n",
    "                {\"role\": \"system\", \"content\": system_prompt},\n",
    "                {\"role\": \"user\", \"content\": user_prompt}\n",
    "            ]\n",
    "        )\n",
    "\n",
    "        answer = response.choices[0].message.content.strip().lower()\n",
    "        return \"не\" not in answer.split('</think>')[1], answer\n"
   ]
  },
  {
   "cell_type": "code",
   "execution_count": 6,
   "id": "1907e4ab",
   "metadata": {},
   "outputs": [
    {
     "data": {
      "text/plain": [
       "(True,\n",
       " '<think>\\nхорошо, давайте разберёмся с этим запросом. пользователь спрашивает о сигарах, и я должен определить, является ли информация об организации \"tabaccos\" релевантной этому запросу.\\n\\nсначала посмотрю на название организации: tabaccos. это явно связано с табачными продуктами, так как само слово указывает на продажу табака и курительных товаров.\\n\\nдалее, категория организации — магазин табака и курительных принадлежностей. здесь уже прямо говорится о том, что это место для покупки табачных изделий, включая сигары, вероятно.\\n\\nотзывы подтверждают: организация занимается продажей табака, курительных изделий и аксессуаров. сигары относятся к курительным изделиям, поэтому наличие такой информации в отзывах укрепляет релевантность.\\n\\nпрайс не указан, но это не проблема для оценки релевантности, так как основное внимание уделяется ассортименту и деятельности магазина. адрес также предоставлен, что может быть полезно для пользователя, если он хочет найти конкретный магазин.\\n\\nтеперь подумаю: есть ли какие-то нюансы? например, если бы организация не продавала сигары, но занималась другими курительными товарами, возможно, релевантность была бы ниже. однако в данном случае отзывы прямо указывают на наличие сигар в ассортименте.\\n\\nтакже стоит учитывать, что пользователь может искать информацию о магазине для покупки сигар, поэтому название, категория и отзывы напрямую связаны с его запросом. адрес поможет найти место для покупки.\\n\\nв целом, все предоставленные данные соответствуют запросу пользователя на поиск информации о продаже сигар в организации \"tabaccos\". следовательно, информация является релевантной.\\n</think>\\nрелевантно')"
      ]
     },
     "execution_count": 6,
     "metadata": {},
     "output_type": "execute_result"
    }
   ],
   "source": [
    "agent = RelevanceLLMAgent()\n",
    "\n",
    "query = \"сигары\"\n",
    "org = {\n",
    "    \"name\": \"Tabaccos\",\n",
    "    \"normalized_main_rubric_name_ru\": \"Магазин табака и курительных принадлежностей\",\n",
    "    \"reviews_summarized\": \"Организация занимается продажей табака, курительных изделий и аксессуаров.\",\n",
    "    \"prices_summarized\": None,\n",
    "    \"address\": \"Москва, Дубравная улица, 34/29\"\n",
    "}\n",
    "\n",
    "agent.predict(query, org)\n"
   ]
  },
  {
   "cell_type": "markdown",
   "id": "5cd79d5a",
   "metadata": {},
   "source": [
    "## Классификатор"
   ]
  },
  {
   "cell_type": "code",
   "execution_count": 6,
   "id": "1fdfad5f",
   "metadata": {},
   "outputs": [],
   "source": [
    "train_data = train_data.fillna(\"\")\n",
    "train_data[\"relevance\"] = train_data[\"relevance\"].astype(int)"
   ]
  },
  {
   "cell_type": "code",
   "execution_count": 7,
   "id": "c842f61f",
   "metadata": {},
   "outputs": [],
   "source": [
    "from sklearn.model_selection import train_test_split\n",
    "\n",
    "df_train, df_val = train_test_split(train_data, test_size=573, random_state=42)"
   ]
  },
  {
   "cell_type": "code",
   "execution_count": 8,
   "id": "a335799a",
   "metadata": {},
   "outputs": [
    {
     "data": {
      "text/plain": [
       "(573, 9)"
      ]
     },
     "execution_count": 8,
     "metadata": {},
     "output_type": "execute_result"
    }
   ],
   "source": [
    "df_val = df_val[df_val[\"relevance\"] != 0.1]\n",
    "df_val.shape"
   ]
  },
  {
   "cell_type": "code",
   "execution_count": 9,
   "id": "d5f745f8",
   "metadata": {},
   "outputs": [],
   "source": [
    "X_train = df_train.drop(\"relevance\", axis= 1)\n",
    "X_val = df_val.drop(\"relevance\", axis= 1)\n",
    "y_train = df_train.relevance\n",
    "y_val = df_val.relevance"
   ]
  },
  {
   "cell_type": "code",
   "execution_count": 10,
   "id": "1ffb3822",
   "metadata": {},
   "outputs": [
    {
     "data": {
      "text/html": [
       "<div>\n",
       "<style scoped>\n",
       "    .dataframe tbody tr th:only-of-type {\n",
       "        vertical-align: middle;\n",
       "    }\n",
       "\n",
       "    .dataframe tbody tr th {\n",
       "        vertical-align: top;\n",
       "    }\n",
       "\n",
       "    .dataframe thead th {\n",
       "        text-align: right;\n",
       "    }\n",
       "</style>\n",
       "<table border=\"1\" class=\"dataframe\">\n",
       "  <thead>\n",
       "    <tr style=\"text-align: right;\">\n",
       "      <th></th>\n",
       "      <th>Text</th>\n",
       "      <th>address</th>\n",
       "      <th>name</th>\n",
       "      <th>normalized_main_rubric_name_ru</th>\n",
       "      <th>permalink</th>\n",
       "      <th>prices_summarized</th>\n",
       "      <th>reviews_summarized</th>\n",
       "      <th>relevance_new</th>\n",
       "    </tr>\n",
       "  </thead>\n",
       "  <tbody>\n",
       "    <tr>\n",
       "      <th>23647</th>\n",
       "      <td>туры на новый год 2018 куда поехать недорого</td>\n",
       "      <td>Москва, 1-я Тверская-Ямская улица, 25, стр. 1</td>\n",
       "      <td>Русь; Rus'</td>\n",
       "      <td>Туроператор</td>\n",
       "      <td>1193822323</td>\n",
       "      <td></td>\n",
       "      <td></td>\n",
       "      <td>1.0</td>\n",
       "    </tr>\n",
       "    <tr>\n",
       "      <th>20019</th>\n",
       "      <td>разливное пиво 24 часа</td>\n",
       "      <td>Москва, улица Сретенка, 1с1</td>\n",
       "      <td>Азбука daily; Azbuka daily; Азбука Вкуса; Азбу...</td>\n",
       "      <td>Магазин продуктов</td>\n",
       "      <td>41730131149</td>\n",
       "      <td></td>\n",
       "      <td>Организация «Азбука daily» занимается продажей...</td>\n",
       "      <td>0.1</td>\n",
       "    </tr>\n",
       "    <tr>\n",
       "      <th>15740</th>\n",
       "      <td>чиносы мужские</td>\n",
       "      <td>Москва, Кировоградская улица, 13А</td>\n",
       "      <td>Kanzler; KANZLER; Kanzler - магазин мужской од...</td>\n",
       "      <td>Магазин одежды</td>\n",
       "      <td>234359465448</td>\n",
       "      <td>Kanzler предлагает широкий ассортимент брюк из...</td>\n",
       "      <td>Организация занимается продажей одежды, имеет ...</td>\n",
       "      <td>1.0</td>\n",
       "    </tr>\n",
       "    <tr>\n",
       "      <th>29149</th>\n",
       "      <td>киа официальный сайт</td>\n",
       "      <td>Москва, Коптевская улица, 69А</td>\n",
       "      <td>Kia Favorit Motors Север; Kia Favorit Motors N...</td>\n",
       "      <td>Автосалон</td>\n",
       "      <td>169217886341</td>\n",
       "      <td>Автосалон Kia Favorit Motors Север предлагает ...</td>\n",
       "      <td>Организация занимается продажей автомобилей Ki...</td>\n",
       "      <td>1.0</td>\n",
       "    </tr>\n",
       "    <tr>\n",
       "      <th>28780</th>\n",
       "      <td>достало ресторан</td>\n",
       "      <td>Московская область, Ленинский городской округ,...</td>\n",
       "      <td>Завидное; ZaVidnoe; ЗаВидное</td>\n",
       "      <td>Ресторан</td>\n",
       "      <td>228176463096</td>\n",
       "      <td>Ресторан «Завидное» предлагает широкий ассорти...</td>\n",
       "      <td>Организация занимается ресторанным бизнесом и ...</td>\n",
       "      <td>1.0</td>\n",
       "    </tr>\n",
       "  </tbody>\n",
       "</table>\n",
       "</div>"
      ],
      "text/plain": [
       "                                               Text  \\\n",
       "23647  туры на новый год 2018 куда поехать недорого   \n",
       "20019                        разливное пиво 24 часа   \n",
       "15740                                чиносы мужские   \n",
       "29149                          киа официальный сайт   \n",
       "28780                              достало ресторан   \n",
       "\n",
       "                                                 address  \\\n",
       "23647      Москва, 1-я Тверская-Ямская улица, 25, стр. 1   \n",
       "20019                        Москва, улица Сретенка, 1с1   \n",
       "15740                  Москва, Кировоградская улица, 13А   \n",
       "29149                      Москва, Коптевская улица, 69А   \n",
       "28780  Московская область, Ленинский городской округ,...   \n",
       "\n",
       "                                                    name  \\\n",
       "23647                                         Русь; Rus'   \n",
       "20019  Азбука daily; Azbuka daily; Азбука Вкуса; Азбу...   \n",
       "15740  Kanzler; KANZLER; Kanzler - магазин мужской од...   \n",
       "29149  Kia Favorit Motors Север; Kia Favorit Motors N...   \n",
       "28780                       Завидное; ZaVidnoe; ЗаВидное   \n",
       "\n",
       "      normalized_main_rubric_name_ru     permalink  \\\n",
       "23647                    Туроператор    1193822323   \n",
       "20019              Магазин продуктов   41730131149   \n",
       "15740                 Магазин одежды  234359465448   \n",
       "29149                      Автосалон  169217886341   \n",
       "28780                       Ресторан  228176463096   \n",
       "\n",
       "                                       prices_summarized  \\\n",
       "23647                                                      \n",
       "20019                                                      \n",
       "15740  Kanzler предлагает широкий ассортимент брюк из...   \n",
       "29149  Автосалон Kia Favorit Motors Север предлагает ...   \n",
       "28780  Ресторан «Завидное» предлагает широкий ассорти...   \n",
       "\n",
       "                                      reviews_summarized  relevance_new  \n",
       "23647                                                               1.0  \n",
       "20019  Организация «Азбука daily» занимается продажей...            0.1  \n",
       "15740  Организация занимается продажей одежды, имеет ...            1.0  \n",
       "29149  Организация занимается продажей автомобилей Ki...            1.0  \n",
       "28780  Организация занимается ресторанным бизнесом и ...            1.0  "
      ]
     },
     "execution_count": 10,
     "metadata": {},
     "output_type": "execute_result"
    }
   ],
   "source": [
    "X_train.head()"
   ]
  },
  {
   "cell_type": "code",
   "execution_count": 11,
   "id": "82a9cb89",
   "metadata": {},
   "outputs": [
    {
     "name": "stdout",
     "output_type": "stream",
     "text": [
      "0:\tlearn: 0.6663421\ttotal: 516ms\tremaining: 4m 17s\n",
      "50:\tlearn: 0.6820354\ttotal: 21s\tremaining: 3m 4s\n",
      "100:\tlearn: 0.6893578\ttotal: 39s\tremaining: 2m 33s\n",
      "150:\tlearn: 0.7017189\ttotal: 52.5s\tremaining: 2m 1s\n",
      "200:\tlearn: 0.7128113\ttotal: 1m 11s\tremaining: 1m 46s\n",
      "250:\tlearn: 0.7227497\ttotal: 1m 30s\tremaining: 1m 29s\n",
      "300:\tlearn: 0.7338967\ttotal: 1m 49s\tremaining: 1m 12s\n",
      "350:\tlearn: 0.7430842\ttotal: 2m 8s\tremaining: 54.5s\n",
      "400:\tlearn: 0.7509937\ttotal: 2m 25s\tremaining: 36s\n",
      "450:\tlearn: 0.7595784\ttotal: 2m 44s\tremaining: 17.8s\n",
      "499:\tlearn: 0.7686705\ttotal: 3m 2s\tremaining: 0us\n"
     ]
    },
    {
     "data": {
      "text/plain": [
       "<catboost.core.CatBoostClassifier at 0x1de87a0d2e0>"
      ]
     },
     "execution_count": 11,
     "metadata": {},
     "output_type": "execute_result"
    }
   ],
   "source": [
    "from catboost import CatBoostClassifier, Pool\n",
    "from sklearn.metrics import classification_report\n",
    "\n",
    "text_features = [\"Text\", \"name\", 'address', \"normalized_main_rubric_name_ru\", \"reviews_summarized\", \"prices_summarized\"]\n",
    "\n",
    "# Обучающая и валидационная выборки\n",
    "X_train = X_train[text_features]\n",
    "X_val = X_val[text_features]\n",
    "\n",
    "# Обучение\n",
    "model = CatBoostClassifier(\n",
    "    text_features=text_features,\n",
    "    iterations=500,\n",
    "    learning_rate=0.1,\n",
    "    depth=6,\n",
    "    eval_metric='TotalF1',\n",
    "    verbose=50,\n",
    "    task_type=\"CPU\"  # или GPU если доступно\n",
    ")\n",
    "\n",
    "model.fit(X_train, y_train, early_stopping_rounds=50)\n"
   ]
  },
  {
   "cell_type": "code",
   "execution_count": 12,
   "id": "165d3a2b",
   "metadata": {},
   "outputs": [
    {
     "name": "stdout",
     "output_type": "stream",
     "text": [
      "Accuracy: 0.6858638743455497\n",
      "F1-score: 0.6442687747035574\n",
      "ROC-AUC: 0.7574556343732358\n"
     ]
    }
   ],
   "source": [
    "from sklearn.metrics import accuracy_score, f1_score, roc_auc_score\n",
    "\n",
    "y_pred = model.predict(X_val)\n",
    "y_proba = model.predict_proba(X_val)[:, 1]\n",
    "\n",
    "print(\"Accuracy:\", accuracy_score(y_val, y_pred))\n",
    "print(\"F1-score:\", f1_score(y_val, y_pred))\n",
    "print(\"ROC-AUC:\", roc_auc_score(y_val, y_proba))"
   ]
  },
  {
   "cell_type": "code",
   "execution_count": 7,
   "id": "10156400",
   "metadata": {},
   "outputs": [],
   "source": [
    "from sklearn.metrics import accuracy_score, f1_score, roc_auc_score\n",
    "from tqdm import tqdm\n",
    "\n",
    "def evaluate_llm(agent, df, max_samples=100):\n",
    "    y_true, y_pred = [], []\n",
    "\n",
    "    for _, row in tqdm(df.head(max_samples).iterrows(), total=min(len(df), max_samples)):\n",
    "        org = {\n",
    "            \"name\": row[\"name\"],\n",
    "            \"normalized_main_rubric_name_ru\": row[\"normalized_main_rubric_name_ru\"],\n",
    "            \"reviews_summarized\": row[\"reviews_summarized\"],\n",
    "            \"prices_summarized\": row[\"prices_summarized\"],\n",
    "            \"address\": row.get(\"address\", \"\"),\n",
    "        }\n",
    "        pred = agent.predict(row[\"Text\"], org)\n",
    "        y_true.append(row[\"relevance\"])\n",
    "        y_pred.append(int(pred[0]))\n",
    "\n",
    "    return {\n",
    "        \"accuracy\": accuracy_score(y_true, y_pred),\n",
    "        \"f1\": f1_score(y_true, y_pred),\n",
    "        \"roc_auc\": roc_auc_score(y_true, y_pred),\n",
    "    }\n"
   ]
  },
  {
   "cell_type": "code",
   "execution_count": null,
   "id": "231f3650",
   "metadata": {},
   "outputs": [],
   "source": [
    "import time\n",
    "\n",
    "def evaluate_mastral(agent, df, max_samples=100, min_interval_sec=2):\n",
    "    y_true, y_pred = [], []\n",
    "    last_call_time = None\n",
    "\n",
    "    for _, row in tqdm(df.head(max_samples).iterrows(), total=min(len(df), max_samples)):\n",
    "        start_time = time.time()\n",
    "\n",
    "        org = {\n",
    "            \"name\": row.get(\"name\", \"\"),\n",
    "            \"normalized_main_rubric_name_ru\": row.get(\"normalized_main_rubric_name_ru\", \"\"),\n",
    "            \"reviews_summarized\": row.get(\"reviews_summarized\", \"\"),\n",
    "            \"prices_summarized\": row.get(\"prices_summarized\", \"\"),\n",
    "            \"address\": row.get(\"address\", \"\"),\n",
    "        }\n",
    "\n",
    "        try:\n",
    "            pred = agent.predict(row[\"Text\"], org)\n",
    "            y_pred.append(int(pred))\n",
    "            y_true.append(row[\"relevance\"])\n",
    "        except Exception as e:\n",
    "            print(\"⚠️ Ошибка:\", e)\n",
    "            continue\n",
    "\n",
    "        # Ждём остаток до полного интервала\n",
    "        elapsed = time.time() - start_time\n",
    "        wait_time = max(0.0, min_interval_sec - elapsed)\n",
    "        time.sleep(wait_time)\n",
    "\n",
    "    return {\n",
    "        \"accuracy\": accuracy_score(y_true, y_pred),\n",
    "        \"f1\": f1_score(y_true, y_pred),\n",
    "        \"roc_auc\": roc_auc_score(y_true, y_pred),\n",
    "    }\n"
   ]
  },
  {
   "cell_type": "code",
   "execution_count": 19,
   "id": "8147ad9b",
   "metadata": {},
   "outputs": [
    {
     "name": "stderr",
     "output_type": "stream",
     "text": [
      "100%|██████████| 500/500 [6:13:45<00:00, 44.85s/it]   "
     ]
    },
    {
     "name": "stdout",
     "output_type": "stream",
     "text": [
      "{'accuracy': 0.586, 'f1': 0.6485568760611206, 'roc_auc': 0.6098989898989898}\n",
      "Wall time: 6h 13min 45s\n"
     ]
    },
    {
     "name": "stderr",
     "output_type": "stream",
     "text": [
      "\n"
     ]
    }
   ],
   "source": [
    "%%time\n",
    "# Ollama metrix\n",
    "metrics = evaluate_llm(agent, df_val, max_samples=500)\n",
    "print(metrics)"
   ]
  },
  {
   "cell_type": "code",
   "execution_count": null,
   "id": "9349b0f2",
   "metadata": {},
   "outputs": [
    {
     "name": "stderr",
     "output_type": "stream",
     "text": [
      "100%|██████████| 100/100 [03:22<00:00,  2.03s/it]"
     ]
    },
    {
     "name": "stdout",
     "output_type": "stream",
     "text": [
      "{'accuracy': 0.51, 'f1': 0.6754966887417219, 'roc_auc': 0.5}\n",
      "Wall time: 3min 22s\n"
     ]
    },
    {
     "name": "stderr",
     "output_type": "stream",
     "text": [
      "\n"
     ]
    }
   ],
   "source": [
    "%%time\n",
    "# Mistral metrix\n",
    "metrics = evaluate_mistral(agent, df_val, max_samples=100)\n",
    "print(metrics)"
   ]
  },
  {
   "cell_type": "markdown",
   "id": "0568f489",
   "metadata": {},
   "source": [
    "## Тесты"
   ]
  },
  {
   "cell_type": "code",
   "execution_count": 23,
   "id": "ac256331",
   "metadata": {},
   "outputs": [
    {
     "name": "stdout",
     "output_type": "stream",
     "text": [
      "Accuracy: 0.634\n",
      "F1-score: 0.6540642722117203\n",
      "ROC-AUC: 0.7231387150712795\n"
     ]
    }
   ],
   "source": [
    "## Catboost\n",
    "eval_data = eval_data.fillna(\"\")\n",
    "eval_data[\"relevance_new\"] = eval_data[\"relevance_new\"].astype(int)\n",
    "\n",
    "\n",
    "X_test = eval_data[text_features]\n",
    "y_test = eval_data.relevance_new\n",
    "\n",
    "\n",
    "y_test_pred = model.predict(X_test)\n",
    "y_test_proba = model.predict_proba(X_test)[:, 1]\n",
    "\n",
    "print(\"Accuracy:\", accuracy_score(y_test, y_test_pred))\n",
    "print(\"F1-score:\", f1_score(y_test, y_test_pred))\n",
    "print(\"ROC-AUC:\", roc_auc_score(y_test, y_test_proba))"
   ]
  },
  {
   "cell_type": "markdown",
   "id": "01216e1e",
   "metadata": {},
   "source": [
    "Метрика обученного классификатора сильно проселе на новых данных."
   ]
  },
  {
   "cell_type": "code",
   "execution_count": null,
   "id": "f55e5de9",
   "metadata": {},
   "outputs": [
    {
     "name": "stderr",
     "output_type": "stream",
     "text": [
      "100%|██████████| 500/500 [4:31:25<00:00, 32.57s/it]   "
     ]
    },
    {
     "name": "stdout",
     "output_type": "stream",
     "text": [
      "{'accuracy': 0.61, 'f1': 0.6899841017488076, 'roc_auc': 0.6110417766684266}\n",
      "Wall time: 4h 31min 25s\n"
     ]
    },
    {
     "name": "stderr",
     "output_type": "stream",
     "text": [
      "\n"
     ]
    }
   ],
   "source": [
    "%%time\n",
    "## LLM\n",
    "metrics = evaluate_llm(agent, eval_data, max_samples=500 )\n",
    "print(metrics)"
   ]
  },
  {
   "cell_type": "markdown",
   "id": "4c7b9324",
   "metadata": {},
   "source": [
    "Метрика LLM немного улучшилась!"
   ]
  },
  {
   "cell_type": "markdown",
   "id": "9df58fa8",
   "metadata": {},
   "source": [
    "## Вывод\n",
    "\n",
    "1. Обучен классификатор\n",
    "2. Проведена оценка применения LLM \"из коробки\"\n",
    "3. Получены Базовые метрики  "
   ]
  }
 ],
 "metadata": {
  "kernelspec": {
   "display_name": "base",
   "language": "python",
   "name": "python3"
  },
  "language_info": {
   "codemirror_mode": {
    "name": "ipython",
    "version": 3
   },
   "file_extension": ".py",
   "mimetype": "text/x-python",
   "name": "python",
   "nbconvert_exporter": "python",
   "pygments_lexer": "ipython3",
   "version": "3.9.13"
  }
 },
 "nbformat": 4,
 "nbformat_minor": 5
}
