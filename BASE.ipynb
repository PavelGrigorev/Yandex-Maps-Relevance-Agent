{
 "cells": [
  {
   "cell_type": "code",
   "execution_count": 1,
   "id": "38561133",
   "metadata": {},
   "outputs": [],
   "source": [
    "import pandas as pd\n",
    "PATH = 'data_final_for_dls.jsonl'\n",
    "PATH_NEW = 'data_final_for_dls_new_new.jsonl'\n",
    "data = pd.read_json(path_or_buf=PATH_NEW, lines=True)"
   ]
  },
  {
   "cell_type": "code",
   "execution_count": 2,
   "id": "c9d3b372",
   "metadata": {},
   "outputs": [
    {
     "data": {
      "text/plain": [
       "relevance\n",
       "1.0    15882\n",
       "0.0    14509\n",
       "0.1     4703\n",
       "Name: count, dtype: int64"
      ]
     },
     "execution_count": 2,
     "metadata": {},
     "output_type": "execute_result"
    }
   ],
   "source": [
    "data['relevance'].value_counts()"
   ]
  },
  {
   "cell_type": "code",
   "execution_count": 3,
   "id": "c4527bc8",
   "metadata": {},
   "outputs": [
    {
     "data": {
      "text/html": [
       "<div>\n",
       "<style scoped>\n",
       "    .dataframe tbody tr th:only-of-type {\n",
       "        vertical-align: middle;\n",
       "    }\n",
       "\n",
       "    .dataframe tbody tr th {\n",
       "        vertical-align: top;\n",
       "    }\n",
       "\n",
       "    .dataframe thead th {\n",
       "        text-align: right;\n",
       "    }\n",
       "</style>\n",
       "<table border=\"1\" class=\"dataframe\">\n",
       "  <thead>\n",
       "    <tr style=\"text-align: right;\">\n",
       "      <th></th>\n",
       "      <th>Text</th>\n",
       "      <th>address</th>\n",
       "      <th>name</th>\n",
       "      <th>normalized_main_rubric_name_ru</th>\n",
       "      <th>permalink</th>\n",
       "      <th>prices_summarized</th>\n",
       "      <th>relevance</th>\n",
       "      <th>reviews_summarized</th>\n",
       "      <th>relevance_new</th>\n",
       "    </tr>\n",
       "  </thead>\n",
       "  <tbody>\n",
       "    <tr>\n",
       "      <th>0</th>\n",
       "      <td>сигары</td>\n",
       "      <td>Москва, Дубравная улица, 34/29</td>\n",
       "      <td>Tabaccos; Магазин Tabaccos; Табаккос</td>\n",
       "      <td>Магазин табака и курительных принадлежностей</td>\n",
       "      <td>1263329400</td>\n",
       "      <td>None</td>\n",
       "      <td>1.0</td>\n",
       "      <td>Организация занимается продажей табака, курите...</td>\n",
       "      <td>1.0</td>\n",
       "    </tr>\n",
       "    <tr>\n",
       "      <th>1</th>\n",
       "      <td>кальянная спб мероприятия</td>\n",
       "      <td>Санкт-Петербург, Большой проспект Петроградско...</td>\n",
       "      <td>PioNero; Pionero; Пицца Паста бар; Pio Nero; P...</td>\n",
       "      <td>Кафе</td>\n",
       "      <td>228111266197</td>\n",
       "      <td>PioNero предлагает разнообразные блюда итальян...</td>\n",
       "      <td>0.0</td>\n",
       "      <td>Организация PioNero — это кафе, бар и ресторан...</td>\n",
       "      <td>0.0</td>\n",
       "    </tr>\n",
       "    <tr>\n",
       "      <th>2</th>\n",
       "      <td>Эпиляция</td>\n",
       "      <td>Московская область, Одинцово, улица Маршала Жу...</td>\n",
       "      <td>MaxiLife; Центр красоты и здоровья MaxiLife; Ц...</td>\n",
       "      <td>Стоматологическая клиника</td>\n",
       "      <td>1247255817</td>\n",
       "      <td>Стоматологическая клиника, массажный салон и к...</td>\n",
       "      <td>1.0</td>\n",
       "      <td>Организация занимается стоматологическими, кос...</td>\n",
       "      <td>1.0</td>\n",
       "    </tr>\n",
       "    <tr>\n",
       "      <th>4</th>\n",
       "      <td>стиральных машин</td>\n",
       "      <td>Москва, улица Обручева, 34/63</td>\n",
       "      <td>М.Видео; M Video; M. Видео; M.Видео; Mvideo; М...</td>\n",
       "      <td>Магазин бытовой техники</td>\n",
       "      <td>1074529324</td>\n",
       "      <td>М.Видео предлагает широкий ассортимент бытовой...</td>\n",
       "      <td>1.0</td>\n",
       "      <td>Организация занимается продажей бытовой техник...</td>\n",
       "      <td>1.0</td>\n",
       "    </tr>\n",
       "    <tr>\n",
       "      <th>5</th>\n",
       "      <td>сеть быстрого питания</td>\n",
       "      <td>Санкт-Петербург, 1-я Красноармейская улица, 15</td>\n",
       "      <td>Rostic's; KFC; Ресторан быстрого питания KFC</td>\n",
       "      <td>Быстрое питание</td>\n",
       "      <td>1219173871</td>\n",
       "      <td>Rostic's предлагает различные наборы быстрого ...</td>\n",
       "      <td>1.0</td>\n",
       "      <td>Организация занимается быстрым питанием, предо...</td>\n",
       "      <td>1.0</td>\n",
       "    </tr>\n",
       "  </tbody>\n",
       "</table>\n",
       "</div>"
      ],
      "text/plain": [
       "                        Text  \\\n",
       "0                     сигары   \n",
       "1  кальянная спб мероприятия   \n",
       "2                   Эпиляция   \n",
       "4           стиральных машин   \n",
       "5      сеть быстрого питания   \n",
       "\n",
       "                                             address  \\\n",
       "0                     Москва, Дубравная улица, 34/29   \n",
       "1  Санкт-Петербург, Большой проспект Петроградско...   \n",
       "2  Московская область, Одинцово, улица Маршала Жу...   \n",
       "4                      Москва, улица Обручева, 34/63   \n",
       "5     Санкт-Петербург, 1-я Красноармейская улица, 15   \n",
       "\n",
       "                                                name  \\\n",
       "0               Tabaccos; Магазин Tabaccos; Табаккос   \n",
       "1  PioNero; Pionero; Пицца Паста бар; Pio Nero; P...   \n",
       "2  MaxiLife; Центр красоты и здоровья MaxiLife; Ц...   \n",
       "4  М.Видео; M Video; M. Видео; M.Видео; Mvideo; М...   \n",
       "5       Rostic's; KFC; Ресторан быстрого питания KFC   \n",
       "\n",
       "                 normalized_main_rubric_name_ru     permalink  \\\n",
       "0  Магазин табака и курительных принадлежностей    1263329400   \n",
       "1                                          Кафе  228111266197   \n",
       "2                     Стоматологическая клиника    1247255817   \n",
       "4                       Магазин бытовой техники    1074529324   \n",
       "5                               Быстрое питание    1219173871   \n",
       "\n",
       "                                   prices_summarized  relevance  \\\n",
       "0                                               None        1.0   \n",
       "1  PioNero предлагает разнообразные блюда итальян...        0.0   \n",
       "2  Стоматологическая клиника, массажный салон и к...        1.0   \n",
       "4  М.Видео предлагает широкий ассортимент бытовой...        1.0   \n",
       "5  Rostic's предлагает различные наборы быстрого ...        1.0   \n",
       "\n",
       "                                  reviews_summarized  relevance_new  \n",
       "0  Организация занимается продажей табака, курите...            1.0  \n",
       "1  Организация PioNero — это кафе, бар и ресторан...            0.0  \n",
       "2  Организация занимается стоматологическими, кос...            1.0  \n",
       "4  Организация занимается продажей бытовой техник...            1.0  \n",
       "5  Организация занимается быстрым питанием, предо...            1.0  "
      ]
     },
     "execution_count": 3,
     "metadata": {},
     "output_type": "execute_result"
    }
   ],
   "source": [
    "train_data = data[570:]\n",
    "eval_data = data[:570]\n",
    "eval_data = eval_data[eval_data[\"relevance\"] != 0.1]\n",
    "eval_data.head()"
   ]
  },
  {
   "cell_type": "code",
   "execution_count": 8,
   "id": "8b8c1009",
   "metadata": {},
   "outputs": [],
   "source": [
    "from openai import OpenAI\n",
    "import os\n",
    "\n",
    "API_KEY = \"ollama\" # \"ollama\" #\"QAFlNVFC15GT4nraEY8ZuQduYLeutJZG\"\n",
    "BASE_URL = \"http://localhost:11434/v1/\" # \"http://localhost:11434/v1/\" # \"https://api.mistral.ai/v1\"\n",
    "MODEL = \"llama3.2:3b\" # \"mistral-medium\" # \"mistral-large-2411\" #\"llama3.2:3b\" # \"mistral-small-latest\"\n",
    "\n",
    "class RelevanceLLMAgent:\n",
    "    def __init__(self, model=MODEL, temperature=0.0):\n",
    "        self.client = OpenAI(base_url=BASE_URL, api_key=API_KEY) # os.environ[\"OPENAI_API_KEY\"])\n",
    "        self.model = model\n",
    "        self.temperature = temperature\n",
    "\n",
    "    def predict(self, query: str, org: dict) -> bool:\n",
    "        system_prompt = (\n",
    "            \"Ты помощник, оценивающий релевантность информации об организации запросу пользователя.\"\n",
    "            \"Продумай ответ шаг за шагом, приняв во внимание информацию из контекста.\"\n",
    "            \"Отвечай только 'релевантно' или 'не релевантно'.\"\n",
    "        )\n",
    "\n",
    "        user_prompt = (\n",
    "            f\"Запрос пользователя: {query}\\n\\n\"\n",
    "            f\"Название: {org.get('name', '')}\\n\"\n",
    "            f\"Категория: {org.get('normalized_main_rubric_name_ru', '')}\\n\"\n",
    "            f\"Отзывы: {org.get('reviews_summarized', '')}\\n\"\n",
    "            f\"Прайс: {org.get('prices_summarized', '')}\\n\"\n",
    "            f\"Адрес: {org.get('address', '')}\\n\\n\"\n",
    "            \"Ответь: релевантно или не релевантно?\"\n",
    "        )\n",
    "\n",
    "        response = self.client.chat.completions.create(\n",
    "            model=self.model,\n",
    "            temperature=self.temperature,\n",
    "            messages=[\n",
    "                {\"role\": \"system\", \"content\": system_prompt},\n",
    "                {\"role\": \"user\", \"content\": user_prompt}\n",
    "            ]\n",
    "        )\n",
    "\n",
    "        answer = response.choices[0].message.content.strip().lower()\n",
    "        return \"релевантно\" in answer, answer\n"
   ]
  },
  {
   "cell_type": "code",
   "execution_count": 9,
   "id": "1907e4ab",
   "metadata": {},
   "outputs": [
    {
     "ename": "InternalServerError",
     "evalue": "Error code: 502",
     "output_type": "error",
     "traceback": [
      "\u001b[1;31m---------------------------------------------------------------------------\u001b[0m",
      "\u001b[1;31mInternalServerError\u001b[0m                       Traceback (most recent call last)",
      "\u001b[1;32m~\\AppData\\Local\\Temp\\ipykernel_59996\\270330351.py\u001b[0m in \u001b[0;36m<module>\u001b[1;34m\u001b[0m\n\u001b[0;32m     10\u001b[0m }\n\u001b[0;32m     11\u001b[0m \u001b[1;33m\u001b[0m\u001b[0m\n\u001b[1;32m---> 12\u001b[1;33m \u001b[0magent\u001b[0m\u001b[1;33m.\u001b[0m\u001b[0mpredict\u001b[0m\u001b[1;33m(\u001b[0m\u001b[0mquery\u001b[0m\u001b[1;33m,\u001b[0m \u001b[0morg\u001b[0m\u001b[1;33m)\u001b[0m\u001b[1;33m\u001b[0m\u001b[1;33m\u001b[0m\u001b[0m\n\u001b[0m",
      "\u001b[1;32m~\\AppData\\Local\\Temp\\ipykernel_59996\\3828359678.py\u001b[0m in \u001b[0;36mpredict\u001b[1;34m(self, query, org)\u001b[0m\n\u001b[0;32m     29\u001b[0m         )\n\u001b[0;32m     30\u001b[0m \u001b[1;33m\u001b[0m\u001b[0m\n\u001b[1;32m---> 31\u001b[1;33m         response = self.client.chat.completions.create(\n\u001b[0m\u001b[0;32m     32\u001b[0m             \u001b[0mmodel\u001b[0m\u001b[1;33m=\u001b[0m\u001b[0mself\u001b[0m\u001b[1;33m.\u001b[0m\u001b[0mmodel\u001b[0m\u001b[1;33m,\u001b[0m\u001b[1;33m\u001b[0m\u001b[1;33m\u001b[0m\u001b[0m\n\u001b[0;32m     33\u001b[0m             \u001b[0mtemperature\u001b[0m\u001b[1;33m=\u001b[0m\u001b[0mself\u001b[0m\u001b[1;33m.\u001b[0m\u001b[0mtemperature\u001b[0m\u001b[1;33m,\u001b[0m\u001b[1;33m\u001b[0m\u001b[1;33m\u001b[0m\u001b[0m\n",
      "\u001b[1;32mc:\\Users\\pavel\\anaconda3\\lib\\site-packages\\openai\\_utils\\_utils.py\u001b[0m in \u001b[0;36mwrapper\u001b[1;34m(*args, **kwargs)\u001b[0m\n\u001b[0;32m    273\u001b[0m                         \u001b[0mmsg\u001b[0m \u001b[1;33m=\u001b[0m \u001b[1;34mf\"Missing required argument: {quote(missing[0])}\"\u001b[0m\u001b[1;33m\u001b[0m\u001b[1;33m\u001b[0m\u001b[0m\n\u001b[0;32m    274\u001b[0m                 \u001b[1;32mraise\u001b[0m \u001b[0mTypeError\u001b[0m\u001b[1;33m(\u001b[0m\u001b[0mmsg\u001b[0m\u001b[1;33m)\u001b[0m\u001b[1;33m\u001b[0m\u001b[1;33m\u001b[0m\u001b[0m\n\u001b[1;32m--> 275\u001b[1;33m             \u001b[1;32mreturn\u001b[0m \u001b[0mfunc\u001b[0m\u001b[1;33m(\u001b[0m\u001b[1;33m*\u001b[0m\u001b[0margs\u001b[0m\u001b[1;33m,\u001b[0m \u001b[1;33m**\u001b[0m\u001b[0mkwargs\u001b[0m\u001b[1;33m)\u001b[0m\u001b[1;33m\u001b[0m\u001b[1;33m\u001b[0m\u001b[0m\n\u001b[0m\u001b[0;32m    276\u001b[0m \u001b[1;33m\u001b[0m\u001b[0m\n\u001b[0;32m    277\u001b[0m         \u001b[1;32mreturn\u001b[0m \u001b[0mwrapper\u001b[0m  \u001b[1;31m# type: ignore\u001b[0m\u001b[1;33m\u001b[0m\u001b[1;33m\u001b[0m\u001b[0m\n",
      "\u001b[1;32mc:\\Users\\pavel\\anaconda3\\lib\\site-packages\\openai\\resources\\chat\\completions.py\u001b[0m in \u001b[0;36mcreate\u001b[1;34m(self, messages, model, audio, frequency_penalty, function_call, functions, logit_bias, logprobs, max_completion_tokens, max_tokens, metadata, modalities, n, parallel_tool_calls, prediction, presence_penalty, reasoning_effort, response_format, seed, service_tier, stop, store, stream, stream_options, temperature, tool_choice, tools, top_logprobs, top_p, user, extra_headers, extra_query, extra_body, timeout)\u001b[0m\n\u001b[0;32m    857\u001b[0m     ) -> ChatCompletion | Stream[ChatCompletionChunk]:\n\u001b[0;32m    858\u001b[0m         \u001b[0mvalidate_response_format\u001b[0m\u001b[1;33m(\u001b[0m\u001b[0mresponse_format\u001b[0m\u001b[1;33m)\u001b[0m\u001b[1;33m\u001b[0m\u001b[1;33m\u001b[0m\u001b[0m\n\u001b[1;32m--> 859\u001b[1;33m         return self._post(\n\u001b[0m\u001b[0;32m    860\u001b[0m             \u001b[1;34m\"/chat/completions\"\u001b[0m\u001b[1;33m,\u001b[0m\u001b[1;33m\u001b[0m\u001b[1;33m\u001b[0m\u001b[0m\n\u001b[0;32m    861\u001b[0m             body=maybe_transform(\n",
      "\u001b[1;32mc:\\Users\\pavel\\anaconda3\\lib\\site-packages\\openai\\_base_client.py\u001b[0m in \u001b[0;36mpost\u001b[1;34m(self, path, cast_to, body, options, files, stream, stream_cls)\u001b[0m\n\u001b[0;32m   1278\u001b[0m             \u001b[0mmethod\u001b[0m\u001b[1;33m=\u001b[0m\u001b[1;34m\"post\"\u001b[0m\u001b[1;33m,\u001b[0m \u001b[0murl\u001b[0m\u001b[1;33m=\u001b[0m\u001b[0mpath\u001b[0m\u001b[1;33m,\u001b[0m \u001b[0mjson_data\u001b[0m\u001b[1;33m=\u001b[0m\u001b[0mbody\u001b[0m\u001b[1;33m,\u001b[0m \u001b[0mfiles\u001b[0m\u001b[1;33m=\u001b[0m\u001b[0mto_httpx_files\u001b[0m\u001b[1;33m(\u001b[0m\u001b[0mfiles\u001b[0m\u001b[1;33m)\u001b[0m\u001b[1;33m,\u001b[0m \u001b[1;33m**\u001b[0m\u001b[0moptions\u001b[0m\u001b[1;33m\u001b[0m\u001b[1;33m\u001b[0m\u001b[0m\n\u001b[0;32m   1279\u001b[0m         )\n\u001b[1;32m-> 1280\u001b[1;33m         \u001b[1;32mreturn\u001b[0m \u001b[0mcast\u001b[0m\u001b[1;33m(\u001b[0m\u001b[0mResponseT\u001b[0m\u001b[1;33m,\u001b[0m \u001b[0mself\u001b[0m\u001b[1;33m.\u001b[0m\u001b[0mrequest\u001b[0m\u001b[1;33m(\u001b[0m\u001b[0mcast_to\u001b[0m\u001b[1;33m,\u001b[0m \u001b[0mopts\u001b[0m\u001b[1;33m,\u001b[0m \u001b[0mstream\u001b[0m\u001b[1;33m=\u001b[0m\u001b[0mstream\u001b[0m\u001b[1;33m,\u001b[0m \u001b[0mstream_cls\u001b[0m\u001b[1;33m=\u001b[0m\u001b[0mstream_cls\u001b[0m\u001b[1;33m)\u001b[0m\u001b[1;33m)\u001b[0m\u001b[1;33m\u001b[0m\u001b[1;33m\u001b[0m\u001b[0m\n\u001b[0m\u001b[0;32m   1281\u001b[0m \u001b[1;33m\u001b[0m\u001b[0m\n\u001b[0;32m   1282\u001b[0m     def patch(\n",
      "\u001b[1;32mc:\\Users\\pavel\\anaconda3\\lib\\site-packages\\openai\\_base_client.py\u001b[0m in \u001b[0;36mrequest\u001b[1;34m(self, cast_to, options, remaining_retries, stream, stream_cls)\u001b[0m\n\u001b[0;32m    955\u001b[0m             \u001b[0mretries_taken\u001b[0m \u001b[1;33m=\u001b[0m \u001b[1;36m0\u001b[0m\u001b[1;33m\u001b[0m\u001b[1;33m\u001b[0m\u001b[0m\n\u001b[0;32m    956\u001b[0m \u001b[1;33m\u001b[0m\u001b[0m\n\u001b[1;32m--> 957\u001b[1;33m         return self._request(\n\u001b[0m\u001b[0;32m    958\u001b[0m             \u001b[0mcast_to\u001b[0m\u001b[1;33m=\u001b[0m\u001b[0mcast_to\u001b[0m\u001b[1;33m,\u001b[0m\u001b[1;33m\u001b[0m\u001b[1;33m\u001b[0m\u001b[0m\n\u001b[0;32m    959\u001b[0m             \u001b[0moptions\u001b[0m\u001b[1;33m=\u001b[0m\u001b[0moptions\u001b[0m\u001b[1;33m,\u001b[0m\u001b[1;33m\u001b[0m\u001b[1;33m\u001b[0m\u001b[0m\n",
      "\u001b[1;32mc:\\Users\\pavel\\anaconda3\\lib\\site-packages\\openai\\_base_client.py\u001b[0m in \u001b[0;36m_request\u001b[1;34m(self, cast_to, options, retries_taken, stream, stream_cls)\u001b[0m\n\u001b[0;32m   1044\u001b[0m             \u001b[1;32mif\u001b[0m \u001b[0mremaining_retries\u001b[0m \u001b[1;33m>\u001b[0m \u001b[1;36m0\u001b[0m \u001b[1;32mand\u001b[0m \u001b[0mself\u001b[0m\u001b[1;33m.\u001b[0m\u001b[0m_should_retry\u001b[0m\u001b[1;33m(\u001b[0m\u001b[0merr\u001b[0m\u001b[1;33m.\u001b[0m\u001b[0mresponse\u001b[0m\u001b[1;33m)\u001b[0m\u001b[1;33m:\u001b[0m\u001b[1;33m\u001b[0m\u001b[1;33m\u001b[0m\u001b[0m\n\u001b[0;32m   1045\u001b[0m                 \u001b[0merr\u001b[0m\u001b[1;33m.\u001b[0m\u001b[0mresponse\u001b[0m\u001b[1;33m.\u001b[0m\u001b[0mclose\u001b[0m\u001b[1;33m(\u001b[0m\u001b[1;33m)\u001b[0m\u001b[1;33m\u001b[0m\u001b[1;33m\u001b[0m\u001b[0m\n\u001b[1;32m-> 1046\u001b[1;33m                 return self._retry_request(\n\u001b[0m\u001b[0;32m   1047\u001b[0m                     \u001b[0minput_options\u001b[0m\u001b[1;33m,\u001b[0m\u001b[1;33m\u001b[0m\u001b[1;33m\u001b[0m\u001b[0m\n\u001b[0;32m   1048\u001b[0m                     \u001b[0mcast_to\u001b[0m\u001b[1;33m,\u001b[0m\u001b[1;33m\u001b[0m\u001b[1;33m\u001b[0m\u001b[0m\n",
      "\u001b[1;32mc:\\Users\\pavel\\anaconda3\\lib\\site-packages\\openai\\_base_client.py\u001b[0m in \u001b[0;36m_retry_request\u001b[1;34m(self, options, cast_to, retries_taken, response_headers, stream, stream_cls)\u001b[0m\n\u001b[0;32m   1093\u001b[0m         \u001b[0mtime\u001b[0m\u001b[1;33m.\u001b[0m\u001b[0msleep\u001b[0m\u001b[1;33m(\u001b[0m\u001b[0mtimeout\u001b[0m\u001b[1;33m)\u001b[0m\u001b[1;33m\u001b[0m\u001b[1;33m\u001b[0m\u001b[0m\n\u001b[0;32m   1094\u001b[0m \u001b[1;33m\u001b[0m\u001b[0m\n\u001b[1;32m-> 1095\u001b[1;33m         return self._request(\n\u001b[0m\u001b[0;32m   1096\u001b[0m             \u001b[0moptions\u001b[0m\u001b[1;33m=\u001b[0m\u001b[0moptions\u001b[0m\u001b[1;33m,\u001b[0m\u001b[1;33m\u001b[0m\u001b[1;33m\u001b[0m\u001b[0m\n\u001b[0;32m   1097\u001b[0m             \u001b[0mcast_to\u001b[0m\u001b[1;33m=\u001b[0m\u001b[0mcast_to\u001b[0m\u001b[1;33m,\u001b[0m\u001b[1;33m\u001b[0m\u001b[1;33m\u001b[0m\u001b[0m\n",
      "\u001b[1;32mc:\\Users\\pavel\\anaconda3\\lib\\site-packages\\openai\\_base_client.py\u001b[0m in \u001b[0;36m_request\u001b[1;34m(self, cast_to, options, retries_taken, stream, stream_cls)\u001b[0m\n\u001b[0;32m   1044\u001b[0m             \u001b[1;32mif\u001b[0m \u001b[0mremaining_retries\u001b[0m \u001b[1;33m>\u001b[0m \u001b[1;36m0\u001b[0m \u001b[1;32mand\u001b[0m \u001b[0mself\u001b[0m\u001b[1;33m.\u001b[0m\u001b[0m_should_retry\u001b[0m\u001b[1;33m(\u001b[0m\u001b[0merr\u001b[0m\u001b[1;33m.\u001b[0m\u001b[0mresponse\u001b[0m\u001b[1;33m)\u001b[0m\u001b[1;33m:\u001b[0m\u001b[1;33m\u001b[0m\u001b[1;33m\u001b[0m\u001b[0m\n\u001b[0;32m   1045\u001b[0m                 \u001b[0merr\u001b[0m\u001b[1;33m.\u001b[0m\u001b[0mresponse\u001b[0m\u001b[1;33m.\u001b[0m\u001b[0mclose\u001b[0m\u001b[1;33m(\u001b[0m\u001b[1;33m)\u001b[0m\u001b[1;33m\u001b[0m\u001b[1;33m\u001b[0m\u001b[0m\n\u001b[1;32m-> 1046\u001b[1;33m                 return self._retry_request(\n\u001b[0m\u001b[0;32m   1047\u001b[0m                     \u001b[0minput_options\u001b[0m\u001b[1;33m,\u001b[0m\u001b[1;33m\u001b[0m\u001b[1;33m\u001b[0m\u001b[0m\n\u001b[0;32m   1048\u001b[0m                     \u001b[0mcast_to\u001b[0m\u001b[1;33m,\u001b[0m\u001b[1;33m\u001b[0m\u001b[1;33m\u001b[0m\u001b[0m\n",
      "\u001b[1;32mc:\\Users\\pavel\\anaconda3\\lib\\site-packages\\openai\\_base_client.py\u001b[0m in \u001b[0;36m_retry_request\u001b[1;34m(self, options, cast_to, retries_taken, response_headers, stream, stream_cls)\u001b[0m\n\u001b[0;32m   1093\u001b[0m         \u001b[0mtime\u001b[0m\u001b[1;33m.\u001b[0m\u001b[0msleep\u001b[0m\u001b[1;33m(\u001b[0m\u001b[0mtimeout\u001b[0m\u001b[1;33m)\u001b[0m\u001b[1;33m\u001b[0m\u001b[1;33m\u001b[0m\u001b[0m\n\u001b[0;32m   1094\u001b[0m \u001b[1;33m\u001b[0m\u001b[0m\n\u001b[1;32m-> 1095\u001b[1;33m         return self._request(\n\u001b[0m\u001b[0;32m   1096\u001b[0m             \u001b[0moptions\u001b[0m\u001b[1;33m=\u001b[0m\u001b[0moptions\u001b[0m\u001b[1;33m,\u001b[0m\u001b[1;33m\u001b[0m\u001b[1;33m\u001b[0m\u001b[0m\n\u001b[0;32m   1097\u001b[0m             \u001b[0mcast_to\u001b[0m\u001b[1;33m=\u001b[0m\u001b[0mcast_to\u001b[0m\u001b[1;33m,\u001b[0m\u001b[1;33m\u001b[0m\u001b[1;33m\u001b[0m\u001b[0m\n",
      "\u001b[1;32mc:\\Users\\pavel\\anaconda3\\lib\\site-packages\\openai\\_base_client.py\u001b[0m in \u001b[0;36m_request\u001b[1;34m(self, cast_to, options, retries_taken, stream, stream_cls)\u001b[0m\n\u001b[0;32m   1059\u001b[0m \u001b[1;33m\u001b[0m\u001b[0m\n\u001b[0;32m   1060\u001b[0m             \u001b[0mlog\u001b[0m\u001b[1;33m.\u001b[0m\u001b[0mdebug\u001b[0m\u001b[1;33m(\u001b[0m\u001b[1;34m\"Re-raising status error\"\u001b[0m\u001b[1;33m)\u001b[0m\u001b[1;33m\u001b[0m\u001b[1;33m\u001b[0m\u001b[0m\n\u001b[1;32m-> 1061\u001b[1;33m             \u001b[1;32mraise\u001b[0m \u001b[0mself\u001b[0m\u001b[1;33m.\u001b[0m\u001b[0m_make_status_error_from_response\u001b[0m\u001b[1;33m(\u001b[0m\u001b[0merr\u001b[0m\u001b[1;33m.\u001b[0m\u001b[0mresponse\u001b[0m\u001b[1;33m)\u001b[0m \u001b[1;32mfrom\u001b[0m \u001b[1;32mNone\u001b[0m\u001b[1;33m\u001b[0m\u001b[1;33m\u001b[0m\u001b[0m\n\u001b[0m\u001b[0;32m   1062\u001b[0m \u001b[1;33m\u001b[0m\u001b[0m\n\u001b[0;32m   1063\u001b[0m         return self._process_response(\n",
      "\u001b[1;31mInternalServerError\u001b[0m: Error code: 502"
     ]
    }
   ],
   "source": [
    "agent = RelevanceLLMAgent()\n",
    "\n",
    "query = \"сигары\"\n",
    "org = {\n",
    "    \"name\": \"Tabaccos\",\n",
    "    \"normalized_main_rubric_name_ru\": \"Магазин табака и курительных принадлежностей\",\n",
    "    \"reviews_summarized\": \"Организация занимается продажей табака, курительных изделий и аксессуаров.\",\n",
    "    \"prices_summarized\": None,\n",
    "    \"address\": \"Москва, Дубравная улица, 34/29\"\n",
    "}\n",
    "\n",
    "agent.predict(query, org)\n"
   ]
  },
  {
   "cell_type": "markdown",
   "id": "5cd79d5a",
   "metadata": {},
   "source": [
    "## Классификатор"
   ]
  },
  {
   "cell_type": "code",
   "execution_count": 70,
   "id": "1fdfad5f",
   "metadata": {},
   "outputs": [],
   "source": [
    "train_data = train_data.fillna(\"\")\n",
    "train_data[\"relevance\"] = train_data[\"relevance\"].astype(int)"
   ]
  },
  {
   "cell_type": "code",
   "execution_count": 71,
   "id": "c842f61f",
   "metadata": {},
   "outputs": [],
   "source": [
    "from sklearn.model_selection import train_test_split\n",
    "\n",
    "df_train, df_val = train_test_split(train_data, test_size=573, random_state=42)"
   ]
  },
  {
   "cell_type": "code",
   "execution_count": 72,
   "id": "a335799a",
   "metadata": {},
   "outputs": [
    {
     "data": {
      "text/plain": [
       "(573, 9)"
      ]
     },
     "execution_count": 72,
     "metadata": {},
     "output_type": "execute_result"
    }
   ],
   "source": [
    "df_val = df_val[df_val[\"relevance\"] != 0.1]\n",
    "df_val.shape"
   ]
  },
  {
   "cell_type": "code",
   "execution_count": 59,
   "id": "d5f745f8",
   "metadata": {},
   "outputs": [],
   "source": [
    "X_train = df_train.drop(\"relevance\", axis= 1)\n",
    "X_val = df_val.drop(\"relevance\", axis= 1)\n",
    "y_train = df_train.relevance\n",
    "y_val = df_val.relevance"
   ]
  },
  {
   "cell_type": "code",
   "execution_count": 60,
   "id": "1ffb3822",
   "metadata": {},
   "outputs": [
    {
     "data": {
      "text/html": [
       "<div>\n",
       "<style scoped>\n",
       "    .dataframe tbody tr th:only-of-type {\n",
       "        vertical-align: middle;\n",
       "    }\n",
       "\n",
       "    .dataframe tbody tr th {\n",
       "        vertical-align: top;\n",
       "    }\n",
       "\n",
       "    .dataframe thead th {\n",
       "        text-align: right;\n",
       "    }\n",
       "</style>\n",
       "<table border=\"1\" class=\"dataframe\">\n",
       "  <thead>\n",
       "    <tr style=\"text-align: right;\">\n",
       "      <th></th>\n",
       "      <th>Text</th>\n",
       "      <th>address</th>\n",
       "      <th>name</th>\n",
       "      <th>normalized_main_rubric_name_ru</th>\n",
       "      <th>permalink</th>\n",
       "      <th>prices_summarized</th>\n",
       "      <th>reviews_summarized</th>\n",
       "    </tr>\n",
       "  </thead>\n",
       "  <tbody>\n",
       "    <tr>\n",
       "      <th>23647</th>\n",
       "      <td>туры на новый год 2018 куда поехать недорого</td>\n",
       "      <td>Москва, 1-я Тверская-Ямская улица, 25, стр. 1</td>\n",
       "      <td>Русь; Rus'</td>\n",
       "      <td>Туроператор</td>\n",
       "      <td>1193822323</td>\n",
       "      <td></td>\n",
       "      <td></td>\n",
       "    </tr>\n",
       "    <tr>\n",
       "      <th>20019</th>\n",
       "      <td>разливное пиво 24 часа</td>\n",
       "      <td>Москва, улица Сретенка, 1с1</td>\n",
       "      <td>Азбука daily; Azbuka daily; Азбука Вкуса; Азбу...</td>\n",
       "      <td>Магазин продуктов</td>\n",
       "      <td>41730131149</td>\n",
       "      <td></td>\n",
       "      <td>Организация «Азбука daily» занимается продажей...</td>\n",
       "    </tr>\n",
       "    <tr>\n",
       "      <th>15740</th>\n",
       "      <td>чиносы мужские</td>\n",
       "      <td>Москва, Кировоградская улица, 13А</td>\n",
       "      <td>Kanzler; KANZLER; Kanzler - магазин мужской од...</td>\n",
       "      <td>Магазин одежды</td>\n",
       "      <td>234359465448</td>\n",
       "      <td>Kanzler предлагает широкий ассортимент брюк из...</td>\n",
       "      <td>Организация занимается продажей одежды, имеет ...</td>\n",
       "    </tr>\n",
       "    <tr>\n",
       "      <th>29149</th>\n",
       "      <td>киа официальный сайт</td>\n",
       "      <td>Москва, Коптевская улица, 69А</td>\n",
       "      <td>Kia Favorit Motors Север; Kia Favorit Motors N...</td>\n",
       "      <td>Автосалон</td>\n",
       "      <td>169217886341</td>\n",
       "      <td>Автосалон Kia Favorit Motors Север предлагает ...</td>\n",
       "      <td>Организация занимается продажей автомобилей Ki...</td>\n",
       "    </tr>\n",
       "    <tr>\n",
       "      <th>28780</th>\n",
       "      <td>достало ресторан</td>\n",
       "      <td>Московская область, Ленинский городской округ,...</td>\n",
       "      <td>Завидное; ZaVidnoe; ЗаВидное</td>\n",
       "      <td>Ресторан</td>\n",
       "      <td>228176463096</td>\n",
       "      <td>Ресторан «Завидное» предлагает широкий ассорти...</td>\n",
       "      <td>Организация занимается ресторанным бизнесом и ...</td>\n",
       "    </tr>\n",
       "  </tbody>\n",
       "</table>\n",
       "</div>"
      ],
      "text/plain": [
       "                                               Text  \\\n",
       "23647  туры на новый год 2018 куда поехать недорого   \n",
       "20019                        разливное пиво 24 часа   \n",
       "15740                                чиносы мужские   \n",
       "29149                          киа официальный сайт   \n",
       "28780                              достало ресторан   \n",
       "\n",
       "                                                 address  \\\n",
       "23647      Москва, 1-я Тверская-Ямская улица, 25, стр. 1   \n",
       "20019                        Москва, улица Сретенка, 1с1   \n",
       "15740                  Москва, Кировоградская улица, 13А   \n",
       "29149                      Москва, Коптевская улица, 69А   \n",
       "28780  Московская область, Ленинский городской округ,...   \n",
       "\n",
       "                                                    name  \\\n",
       "23647                                         Русь; Rus'   \n",
       "20019  Азбука daily; Azbuka daily; Азбука Вкуса; Азбу...   \n",
       "15740  Kanzler; KANZLER; Kanzler - магазин мужской од...   \n",
       "29149  Kia Favorit Motors Север; Kia Favorit Motors N...   \n",
       "28780                       Завидное; ZaVidnoe; ЗаВидное   \n",
       "\n",
       "      normalized_main_rubric_name_ru     permalink  \\\n",
       "23647                    Туроператор    1193822323   \n",
       "20019              Магазин продуктов   41730131149   \n",
       "15740                 Магазин одежды  234359465448   \n",
       "29149                      Автосалон  169217886341   \n",
       "28780                       Ресторан  228176463096   \n",
       "\n",
       "                                       prices_summarized  \\\n",
       "23647                                                      \n",
       "20019                                                      \n",
       "15740  Kanzler предлагает широкий ассортимент брюк из...   \n",
       "29149  Автосалон Kia Favorit Motors Север предлагает ...   \n",
       "28780  Ресторан «Завидное» предлагает широкий ассорти...   \n",
       "\n",
       "                                      reviews_summarized  \n",
       "23647                                                     \n",
       "20019  Организация «Азбука daily» занимается продажей...  \n",
       "15740  Организация занимается продажей одежды, имеет ...  \n",
       "29149  Организация занимается продажей автомобилей Ki...  \n",
       "28780  Организация занимается ресторанным бизнесом и ...  "
      ]
     },
     "execution_count": 60,
     "metadata": {},
     "output_type": "execute_result"
    }
   ],
   "source": [
    "X_train.head()"
   ]
  },
  {
   "cell_type": "code",
   "execution_count": 61,
   "id": "61247851",
   "metadata": {},
   "outputs": [
    {
     "name": "stdout",
     "output_type": "stream",
     "text": [
      "<class 'pandas.core.frame.DataFrame'>\n",
      "Index: 33951 entries, 23647 to 16365\n",
      "Data columns (total 7 columns):\n",
      " #   Column                          Non-Null Count  Dtype \n",
      "---  ------                          --------------  ----- \n",
      " 0   Text                            33951 non-null  object\n",
      " 1   address                         33951 non-null  object\n",
      " 2   name                            33951 non-null  object\n",
      " 3   normalized_main_rubric_name_ru  33951 non-null  object\n",
      " 4   permalink                       33951 non-null  int64 \n",
      " 5   prices_summarized               33951 non-null  object\n",
      " 6   reviews_summarized              33951 non-null  object\n",
      "dtypes: int64(1), object(6)\n",
      "memory usage: 2.1+ MB\n"
     ]
    }
   ],
   "source": [
    "X_train.info()"
   ]
  },
  {
   "cell_type": "code",
   "execution_count": 62,
   "id": "82a9cb89",
   "metadata": {},
   "outputs": [
    {
     "name": "stdout",
     "output_type": "stream",
     "text": [
      "0:\tlearn: 0.6663421\ttotal: 233ms\tremaining: 1m 56s\n",
      "50:\tlearn: 0.6820354\ttotal: 11.8s\tremaining: 1m 43s\n",
      "100:\tlearn: 0.6893578\ttotal: 28s\tremaining: 1m 50s\n",
      "150:\tlearn: 0.7017189\ttotal: 45.4s\tremaining: 1m 44s\n",
      "200:\tlearn: 0.7128113\ttotal: 1m 2s\tremaining: 1m 33s\n",
      "250:\tlearn: 0.7227497\ttotal: 1m 19s\tremaining: 1m 19s\n",
      "300:\tlearn: 0.7338967\ttotal: 1m 38s\tremaining: 1m 4s\n",
      "350:\tlearn: 0.7430842\ttotal: 1m 55s\tremaining: 49.1s\n",
      "400:\tlearn: 0.7509937\ttotal: 2m 14s\tremaining: 33.1s\n",
      "450:\tlearn: 0.7595784\ttotal: 2m 30s\tremaining: 16.4s\n",
      "499:\tlearn: 0.7686705\ttotal: 2m 47s\tremaining: 0us\n"
     ]
    },
    {
     "data": {
      "text/plain": [
       "<catboost.core.CatBoostClassifier at 0x2ec6c7a3640>"
      ]
     },
     "execution_count": 62,
     "metadata": {},
     "output_type": "execute_result"
    }
   ],
   "source": [
    "from catboost import CatBoostClassifier, Pool\n",
    "from sklearn.metrics import classification_report\n",
    "\n",
    "text_features = [\"Text\", \"name\", 'address', \"normalized_main_rubric_name_ru\", \"reviews_summarized\", \"prices_summarized\"]\n",
    "\n",
    "# Обучающая и валидационная выборки\n",
    "X_train = X_train[text_features]\n",
    "X_val = X_val[text_features]\n",
    "\n",
    "# # Создаем CatBoost Pool\n",
    "# train_pool = Pool(X_train, label=y_train, text_features=text_features)\n",
    "# val_pool = Pool(X_val, label=y_val, text_features=text_features)\n",
    "\n",
    "# Обучение\n",
    "model = CatBoostClassifier(\n",
    "    text_features=text_features,\n",
    "    iterations=500,\n",
    "    learning_rate=0.1,\n",
    "    depth=6,\n",
    "    eval_metric='TotalF1',\n",
    "    verbose=50,\n",
    "    task_type=\"CPU\"  # или GPU если доступно\n",
    ")\n",
    "\n",
    "model.fit(X_train, y_train, early_stopping_rounds=50)\n"
   ]
  },
  {
   "cell_type": "code",
   "execution_count": 63,
   "id": "165d3a2b",
   "metadata": {},
   "outputs": [
    {
     "name": "stdout",
     "output_type": "stream",
     "text": [
      "Accuracy: 0.6858638743455497\n",
      "F1-score: 0.6442687747035574\n",
      "ROC-AUC: 0.7574556343732358\n"
     ]
    }
   ],
   "source": [
    "from sklearn.metrics import accuracy_score, f1_score, roc_auc_score\n",
    "\n",
    "y_pred = model.predict(X_val)\n",
    "y_proba = model.predict_proba(X_val)[:, 1]\n",
    "\n",
    "print(\"Accuracy:\", accuracy_score(y_val, y_pred))\n",
    "print(\"F1-score:\", f1_score(y_val, y_pred))\n",
    "print(\"ROC-AUC:\", roc_auc_score(y_val, y_proba))"
   ]
  },
  {
   "cell_type": "code",
   "execution_count": 73,
   "id": "10156400",
   "metadata": {},
   "outputs": [],
   "source": [
    "from sklearn.metrics import accuracy_score, f1_score, roc_auc_score\n",
    "from tqdm import tqdm\n",
    "\n",
    "def evaluate_llm(agent, df, max_samples=100):\n",
    "    y_true, y_pred = [], []\n",
    "\n",
    "    for _, row in tqdm(df.head(max_samples).iterrows(), total=min(len(df), max_samples)):\n",
    "        org = {\n",
    "            \"name\": row[\"name\"],\n",
    "            \"normalized_main_rubric_name_ru\": row[\"normalized_main_rubric_name_ru\"],\n",
    "            \"reviews_summarized\": row[\"reviews_summarized\"],\n",
    "            \"prices_summarized\": row[\"prices_summarized\"],\n",
    "            \"address\": row.get(\"address\", \"\"),\n",
    "        }\n",
    "        pred = agent.predict(row[\"Text\"], org)\n",
    "        y_true.append(row[\"relevance\"])\n",
    "        y_pred.append(int(pred))\n",
    "\n",
    "    return {\n",
    "        \"accuracy\": accuracy_score(y_true, y_pred),\n",
    "        \"f1\": f1_score(y_true, y_pred),\n",
    "        \"roc_auc\": roc_auc_score(y_true, y_pred),\n",
    "    }\n"
   ]
  },
  {
   "cell_type": "code",
   "execution_count": 112,
   "id": "231f3650",
   "metadata": {},
   "outputs": [],
   "source": [
    "import time\n",
    "\n",
    "def evaluate_llm(agent, df, max_samples=100, min_interval_sec=2):\n",
    "    y_true, y_pred = [], []\n",
    "    last_call_time = None\n",
    "\n",
    "    for _, row in tqdm(df.head(max_samples).iterrows(), total=min(len(df), max_samples)):\n",
    "        start_time = time.time()\n",
    "\n",
    "        org = {\n",
    "            \"name\": row.get(\"name\", \"\"),\n",
    "            \"normalized_main_rubric_name_ru\": row.get(\"normalized_main_rubric_name_ru\", \"\"),\n",
    "            \"reviews_summarized\": row.get(\"reviews_summarized\", \"\"),\n",
    "            \"prices_summarized\": row.get(\"prices_summarized\", \"\"),\n",
    "            \"address\": row.get(\"address\", \"\"),\n",
    "        }\n",
    "\n",
    "        try:\n",
    "            pred = agent.predict(row[\"Text\"], org)\n",
    "            y_pred.append(int(pred))\n",
    "            y_true.append(row[\"relevance\"])\n",
    "        except Exception as e:\n",
    "            print(\"⚠️ Ошибка:\", e)\n",
    "            continue\n",
    "\n",
    "        # Ждём остаток до полного интервала\n",
    "        elapsed = time.time() - start_time\n",
    "        wait_time = max(0.0, min_interval_sec - elapsed)\n",
    "        time.sleep(wait_time)\n",
    "\n",
    "    return {\n",
    "        \"accuracy\": accuracy_score(y_true, y_pred),\n",
    "        \"f1\": f1_score(y_true, y_pred),\n",
    "        \"roc_auc\": roc_auc_score(y_true, y_pred),\n",
    "    }\n"
   ]
  },
  {
   "cell_type": "code",
   "execution_count": null,
   "id": "8147ad9b",
   "metadata": {},
   "outputs": [],
   "source": [
    "%%time\n",
    "# Ollama metrix\n",
    "metrics = evaluate_llm(agent, df_val, max_samples=500)\n",
    "print(metrics)"
   ]
  },
  {
   "cell_type": "code",
   "execution_count": 113,
   "id": "9349b0f2",
   "metadata": {},
   "outputs": [
    {
     "name": "stderr",
     "output_type": "stream",
     "text": [
      "100%|██████████| 100/100 [03:22<00:00,  2.03s/it]"
     ]
    },
    {
     "name": "stdout",
     "output_type": "stream",
     "text": [
      "{'accuracy': 0.51, 'f1': 0.6754966887417219, 'roc_auc': 0.5}\n",
      "Wall time: 3min 22s\n"
     ]
    },
    {
     "name": "stderr",
     "output_type": "stream",
     "text": [
      "\n"
     ]
    }
   ],
   "source": [
    "%%time\n",
    "# Mistral metrix\n",
    "metrics = evaluate_llm(agent, df_val, max_samples=100)\n",
    "print(metrics)"
   ]
  }
 ],
 "metadata": {
  "kernelspec": {
   "display_name": "base",
   "language": "python",
   "name": "python3"
  },
  "language_info": {
   "codemirror_mode": {
    "name": "ipython",
    "version": 3
   },
   "file_extension": ".py",
   "mimetype": "text/x-python",
   "name": "python",
   "nbconvert_exporter": "python",
   "pygments_lexer": "ipython3",
   "version": "3.9.13"
  }
 },
 "nbformat": 4,
 "nbformat_minor": 5
}
